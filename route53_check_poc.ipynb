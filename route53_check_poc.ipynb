{
 "cells": [
  {
   "cell_type": "markdown",
   "id": "04a3f739",
   "metadata": {},
   "source": [
    "# get service annotations from k8s api"
   ]
  },
  {
   "cell_type": "code",
   "execution_count": 2,
   "id": "9d82084a",
   "metadata": {},
   "outputs": [],
   "source": [
    "from kubernetes import client, config"
   ]
  },
  {
   "cell_type": "code",
   "execution_count": 17,
   "id": "7a488a9d",
   "metadata": {},
   "outputs": [],
   "source": [
    "# Configs can be set in Configuration class directly or using helper utility\n",
    "config.load_kube_config(context=\"k8s-houzz.stghouzz.com\")"
   ]
  },
  {
   "cell_type": "code",
   "execution_count": 64,
   "id": "251a5969",
   "metadata": {},
   "outputs": [
    {
     "name": "stdout",
     "output_type": "stream",
     "text": [
      "expected lb binding k8s svc\n",
      "svc name / external-dns.hostname\n",
      "istio-ingressgateway-c2-thrift-main / c2-thrift-main.houzz1.k8s-houzz.stghouzz.com / internal-a0046c9a4eef84daa936fe89bae1d847-642646328.us-west-2.elb.amazonaws.com\n",
      "istio-ingressgateway-c2-web-main / c2-web-main.houzz1.k8s-houzz.stghouzz.com / internal-afc9584065d9d4cc69234464dbd70b05-694029955.us-west-2.elb.amazonaws.com\n",
      "istio-ingressgateway-jukwaa-main / jukwaa-main.houzz1.k8s-houzz.stghouzz.com / internal-a43e3cb1bf046403cbc5829326c14ed2-1954115257.us-west-2.elb.amazonaws.com\n",
      "istio-ingressgateway-c2-thrift-php7 / c2-thrift-main.houzz2.k8s-houzz.stghouzz.com / internal-af8c3b77981fe4195bf0c60aa0741f68-1563532737.us-west-2.elb.amazonaws.com\n",
      "istio-ingressgateway-c2-web-php7 / c2-web-main.houzz2.k8s-houzz.stghouzz.com / internal-ab0de2c46fd9e430b9488dd6f057d280-560239091.us-west-2.elb.amazonaws.com\n",
      "istio-ingressgateway-internal-tools / internal-tools.houzz2.k8s-houzz.stghouzz.com / internal-a3786f0432ff049b7a9ae0dd2068fe55-516846473.us-west-2.elb.amazonaws.com\n",
      "istio-ingressgateway-jukwaa-main / jukwaa-main.houzz2.k8s-houzz.stghouzz.com / internal-a6cb387f13e1841ba816f588c9e5ef9e-1332098125.us-west-2.elb.amazonaws.com\n",
      "istio-ingressgateway-next-pro-site-main / next-pro-site-main.houzz2.k8s-houzz.stghouzz.com / internal-af086a4e45ae54a8eac721d097e02ba1-1886532373.us-west-2.elb.amazonaws.com\n",
      "istio-ingressgateway-c2-thrift-main / c2-thrift-main.houzz3.k8s-houzz.stghouzz.com / internal-abb6307fce8694407b7d1e1d70a39e7e-2010731691.us-west-2.elb.amazonaws.com\n",
      "istio-ingressgateway-c2-web-main / c2-web-main.houzz3.k8s-houzz.stghouzz.com / internal-a2133a306383d4489a05a0083e2b72c1-869519761.us-west-2.elb.amazonaws.com\n",
      "istio-ingressgateway-jukwaa-main / jukwaa-main.houzz3.k8s-houzz.stghouzz.com / internal-ae1c3ccf6b3504108a25ca3a67d6efbd-1466830124.us-west-2.elb.amazonaws.com\n",
      "istio-ingressgateway-c2-thrift-php7 / c2-thrift-main.stghouzz.k8s-houzz.stghouzz.com / internal-abb9c51c1d29941c297e373b8aee67c4-1111716126.us-west-2.elb.amazonaws.com\n",
      "istio-ingressgateway-c2-web-php7 / c2-web-main.stghouzz.k8s-houzz.stghouzz.com / internal-a0401bacdaa76469db857323d8b9ad43-2029665750.us-west-2.elb.amazonaws.com\n",
      "istio-ingressgateway-cdp-api / cdp-api.stghouzz.k8s-houzz.stghouzz.com / internal-a08bc8ba2bea04b0eaf4dfd1ee529837-161567899.us-west-2.elb.amazonaws.com\n",
      "istio-ingressgateway-internal-tools / internal-tools.stghouzz.k8s-houzz.stghouzz.com / internal-afa4f98024c1644988c10fef5236fb0c-1177002133.us-west-2.elb.amazonaws.com\n",
      "istio-ingressgateway-jukwaa-graphql / jukwaa-graphql.stghouzz.k8s-houzz.stghouzz.com / internal-a3b52525f4f0948139ae961f0b2380f1-657107807.us-west-2.elb.amazonaws.com\n",
      "istio-ingressgateway-jukwaa-main / jukwaa-main.stghouzz.k8s-houzz.stghouzz.com / internal-a2f8f802a1a844287b7d61dadd0f5efc-141810882.us-west-2.elb.amazonaws.com\n",
      "istio-ingressgateway-jukwaa-v2 / jukwaa-v2.stghouzz.k8s-houzz.stghouzz.com / internal-a0613fc8381084ae6bc043a940822da3-1031726614.us-west-2.elb.amazonaws.com\n",
      "istio-ingressgateway-next-pro-site-main / next-pro-site-main.stghouzz.k8s-houzz.stghouzz.com / internal-a8cc922849f674fc990eb9d2b1305c44-1667914448.us-west-2.elb.amazonaws.com\n"
     ]
    }
   ],
   "source": [
    "v1 = client.CoreV1Api()\n",
    "print(\"expected lb binding k8s svc\")\n",
    "print(\"svc name / external-dns.hostname\")\n",
    "ret = v1.list_service_for_all_namespaces(watch=False)\n",
    "kvpair = {}\n",
    "for i in ret.items:\n",
    "    if  i.metadata.annotations != None and 'external-dns.alpha.kubernetes.io/hostname' in i.metadata.annotations.keys():\n",
    "        print(\"{} / {} / {}\".format(i.metadata.name, i.metadata.annotations['external-dns.alpha.kubernetes.io/hostname'], i.status.load_balancer.ingress[0].hostname))\n",
    "        kvpair[i.metadata.name] = i.metadata.annotations['external-dns.alpha.kubernetes.io/hostname']\n",
    "        "
   ]
  },
  {
   "cell_type": "code",
   "execution_count": 26,
   "id": "c97f6d3a",
   "metadata": {},
   "outputs": [
    {
     "name": "stdout",
     "output_type": "stream",
     "text": [
      "{'istio-ingressgateway-c2-thrift-main': 'c2-thrift-main.houzz3.k8s-houzz.stghouzz.com', 'istio-ingressgateway-c2-web-main': 'c2-web-main.houzz3.k8s-houzz.stghouzz.com', 'istio-ingressgateway-jukwaa-main': 'jukwaa-main.stghouzz.k8s-houzz.stghouzz.com', 'istio-ingressgateway-c2-thrift-php7': 'c2-thrift-main.stghouzz.k8s-houzz.stghouzz.com', 'istio-ingressgateway-c2-web-php7': 'c2-web-main.stghouzz.k8s-houzz.stghouzz.com', 'istio-ingressgateway-internal-tools': 'internal-tools.stghouzz.k8s-houzz.stghouzz.com', 'istio-ingressgateway-next-pro-site-main': 'next-pro-site-main.stghouzz.k8s-houzz.stghouzz.com', 'istio-ingressgateway-cdp-api': 'cdp-api.stghouzz.k8s-houzz.stghouzz.com', 'istio-ingressgateway-jukwaa-graphql': 'jukwaa-graphql.stghouzz.k8s-houzz.stghouzz.com', 'istio-ingressgateway-jukwaa-v2': 'jukwaa-v2.stghouzz.k8s-houzz.stghouzz.com'}\n"
     ]
    }
   ],
   "source": [
    "print(kvpair)"
   ]
  },
  {
   "cell_type": "markdown",
   "id": "ceebd8e5",
   "metadata": {},
   "source": [
    "# get record from specific route53 zone"
   ]
  },
  {
   "cell_type": "code",
   "execution_count": 27,
   "id": "721376b6",
   "metadata": {},
   "outputs": [],
   "source": [
    "import boto3\n",
    "\n",
    "session = boto3.Session(profile_name='staging')"
   ]
  },
  {
   "cell_type": "code",
   "execution_count": 29,
   "id": "8c96a0dc",
   "metadata": {},
   "outputs": [],
   "source": [
    "route53_client = session.client('route53')"
   ]
  },
  {
   "cell_type": "code",
   "execution_count": 31,
   "id": "b5fc125d",
   "metadata": {},
   "outputs": [],
   "source": [
    "stg_all_zone = route53_client.list_hosted_zones()"
   ]
  },
  {
   "cell_type": "code",
   "execution_count": 36,
   "id": "89469df8",
   "metadata": {},
   "outputs": [],
   "source": [
    "all_zone_records = route53_client.list_resource_record_sets(\n",
    "            HostedZoneId='/hostedzone/Z0323705FCDT3CK76BMG'\n",
    "        )['ResourceRecordSets']"
   ]
  },
  {
   "cell_type": "code",
   "execution_count": 63,
   "id": "31216519",
   "metadata": {},
   "outputs": [
    {
     "name": "stdout",
     "output_type": "stream",
     "text": [
      "actual route53 lb binding\n",
      "c2-thrift-main.houzz3.k8s-houzz.stghouzz.com internal-abb6307fce8694407b7d1e1d70a39e7e-2010731691.us-west-2.elb.amazonaws.com. True\n",
      "c2-web-main.houzz3.k8s-houzz.stghouzz.com internal-a2133a306383d4489a05a0083e2b72c1-869519761.us-west-2.elb.amazonaws.com. True\n",
      "jukwaa-main.stghouzz.k8s-houzz.stghouzz.com internal-a2f8f802a1a844287b7d61dadd0f5efc-141810882.us-west-2.elb.amazonaws.com. True\n",
      "c2-thrift-main.stghouzz.k8s-houzz.stghouzz.com internal-abb9c51c1d29941c297e373b8aee67c4-1111716126.us-west-2.elb.amazonaws.com. True\n",
      "c2-web-main.stghouzz.k8s-houzz.stghouzz.com internal-a0401bacdaa76469db857323d8b9ad43-2029665750.us-west-2.elb.amazonaws.com. True\n",
      "internal-tools.stghouzz.k8s-houzz.stghouzz.com internal-afa4f98024c1644988c10fef5236fb0c-1177002133.us-west-2.elb.amazonaws.com. True\n",
      "next-pro-site-main.stghouzz.k8s-houzz.stghouzz.com internal-a8cc922849f674fc990eb9d2b1305c44-1667914448.us-west-2.elb.amazonaws.com. True\n",
      "cdp-api.stghouzz.k8s-houzz.stghouzz.com internal-a08bc8ba2bea04b0eaf4dfd1ee529837-161567899.us-west-2.elb.amazonaws.com. True\n",
      "jukwaa-graphql.stghouzz.k8s-houzz.stghouzz.com internal-a3b52525f4f0948139ae961f0b2380f1-657107807.us-west-2.elb.amazonaws.com. True\n",
      "jukwaa-v2.stghouzz.k8s-houzz.stghouzz.com internal-a0613fc8381084ae6bc043a940822da3-1031726614.us-west-2.elb.amazonaws.com. True\n"
     ]
    }
   ],
   "source": [
    "all_expeted_domains = list(kvpair.values())\n",
    "\n",
    "print(\"actual route53 lb binding\")\n",
    "\n",
    "for domain in all_expeted_domains:\n",
    "    for rr in all_zone_records:\n",
    "        ok_flag = False\n",
    "        if rr['Name'][:-1] == domain:\n",
    "            if rr['Type'] == 'A':\n",
    "                print(domain, rr['AliasTarget']['DNSName'], rr['AliasTarget']['EvaluateTargetHealth'])"
   ]
  },
  {
   "cell_type": "code",
   "execution_count": 44,
   "id": "03d25a0e",
   "metadata": {},
   "outputs": [
    {
     "name": "stdout",
     "output_type": "stream",
     "text": [
      "['c2-thrift-main.houzz3.k8s-houzz.stghouzz.com', 'c2-web-main.houzz3.k8s-houzz.stghouzz.com', 'jukwaa-main.stghouzz.k8s-houzz.stghouzz.com', 'c2-thrift-main.stghouzz.k8s-houzz.stghouzz.com', 'c2-web-main.stghouzz.k8s-houzz.stghouzz.com', 'internal-tools.stghouzz.k8s-houzz.stghouzz.com', 'next-pro-site-main.stghouzz.k8s-houzz.stghouzz.com', 'cdp-api.stghouzz.k8s-houzz.stghouzz.com', 'jukwaa-graphql.stghouzz.k8s-houzz.stghouzz.com', 'jukwaa-v2.stghouzz.k8s-houzz.stghouzz.com']\n"
     ]
    }
   ],
   "source": [
    "print(all_expeted_domains)"
   ]
  },
  {
   "cell_type": "markdown",
   "id": "f043bdad",
   "metadata": {},
   "source": [
    "# send metrics to prom's push gateway\n",
    "\n",
    "pushgateway runs on  separate port, by default 9091.  we have open the port on LB just for this script if use push\n"
   ]
  },
  {
   "cell_type": "code",
   "execution_count": 2,
   "id": "43568341",
   "metadata": {},
   "outputs": [],
   "source": [
    "from prometheus_client import CollectorRegistry, Counter, push_to_gateway\n"
   ]
  },
  {
   "cell_type": "code",
   "execution_count": 3,
   "id": "bbdece68",
   "metadata": {},
   "outputs": [],
   "source": [
    "registry = CollectorRegistry()\n",
    "\n",
    "c = Counter('kailun_test_metric_a', 'Kailun Test Metric', ['label1', 'label2'])\n",
    "c.labels('apple', 'pear').inc()\n",
    "c.labels('orange', 'peach').inc()"
   ]
  },
  {
   "cell_type": "code",
   "execution_count": 4,
   "id": "9af1f59a",
   "metadata": {},
   "outputs": [],
   "source": [
    "# push_to_gateway('localhost:9091', job='batchA', registry=registry)"
   ]
  },
  {
   "cell_type": "code",
   "execution_count": null,
   "id": "6cd7414e",
   "metadata": {},
   "outputs": [],
   "source": []
  }
 ],
 "metadata": {
  "kernelspec": {
   "display_name": "Python 3 (ipykernel)",
   "language": "python",
   "name": "python3"
  },
  "language_info": {
   "codemirror_mode": {
    "name": "ipython",
    "version": 3
   },
   "file_extension": ".py",
   "mimetype": "text/x-python",
   "name": "python",
   "nbconvert_exporter": "python",
   "pygments_lexer": "ipython3",
   "version": "3.9.6"
  }
 },
 "nbformat": 4,
 "nbformat_minor": 5
}
